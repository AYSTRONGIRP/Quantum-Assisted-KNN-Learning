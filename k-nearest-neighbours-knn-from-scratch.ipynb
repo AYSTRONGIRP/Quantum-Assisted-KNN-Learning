{
 "cells": [
  {
   "cell_type": "markdown",
   "id": "8df6743a",
   "metadata": {
    "papermill": {
     "duration": 0.008431,
     "end_time": "2022-09-10T21:18:57.283706",
     "exception": false,
     "start_time": "2022-09-10T21:18:57.275275",
     "status": "completed"
    },
    "tags": []
   },
   "source": [
    "# Introduction\n",
    "\n",
    "In this notebook, we will motivate and implement the **k-Nearest Neighbours** (kNN) algorithm from scratch."
   ]
  },
  {
   "cell_type": "markdown",
   "id": "c8882250",
   "metadata": {
    "papermill": {
     "duration": 0.006313,
     "end_time": "2022-09-10T21:18:57.296691",
     "exception": false,
     "start_time": "2022-09-10T21:18:57.290378",
     "status": "completed"
    },
    "tags": []
   },
   "source": [
    "**Libraries**"
   ]
  },
  {
   "cell_type": "code",
   "execution_count": 2,
   "id": "d27b07c9",
   "metadata": {
    "execution": {
     "iopub.execute_input": "2022-09-10T21:18:57.312726Z",
     "iopub.status.busy": "2022-09-10T21:18:57.311693Z",
     "iopub.status.idle": "2022-09-10T21:18:58.874995Z",
     "shell.execute_reply": "2022-09-10T21:18:58.873767Z"
    },
    "papermill": {
     "duration": 1.574981,
     "end_time": "2022-09-10T21:18:58.878231",
     "exception": false,
     "start_time": "2022-09-10T21:18:57.303250",
     "status": "completed"
    },
    "tags": []
   },
   "outputs": [],
   "source": [
    "import numpy as np\n",
    "import pandas as pd\n",
    "import seaborn as sns\n",
    "sns.set(style='darkgrid', font_scale=1.4)\n",
    "import matplotlib.pyplot as plt\n",
    "%matplotlib inline\n",
    "from sklearn.model_selection import train_test_split\n",
    "from scipy import stats\n",
    "import time"
   ]
  },
  {
   "cell_type": "markdown",
   "id": "b3a77228",
   "metadata": {
    "papermill": {
     "duration": 0.006222,
     "end_time": "2022-09-10T21:18:58.891230",
     "exception": false,
     "start_time": "2022-09-10T21:18:58.885008",
     "status": "completed"
    },
    "tags": []
   },
   "source": [
    "# Motivation\n",
    "\n",
    "k-Nearest Neighbours is a powerful yet simple **classification algorithm**. It makes **predictions** by comparing new data points to its k-nearest data points and assigning a class based on the **majority class** of its neighbours. \n",
    "\n",
    "Note that there is **no training phase** like in other machine learning algorithms. Instead, the training set just gets saved for the prediction phase later."
   ]
  },
  {
   "cell_type": "markdown",
   "id": "5838f9ce",
   "metadata": {
    "papermill": {
     "duration": 0.006268,
     "end_time": "2022-09-10T21:18:58.904108",
     "exception": false,
     "start_time": "2022-09-10T21:18:58.897840",
     "status": "completed"
    },
    "tags": []
   },
   "source": [
    "<center>\n",
    "<img src='https://static.javatpoint.com/tutorial/machine-learning/images/k-nearest-neighbor-algorithm-for-machine-learning2.png' width=500>\n",
    "</center>    "
   ]
  },
  {
   "cell_type": "markdown",
   "id": "3cf64191",
   "metadata": {
    "papermill": {
     "duration": 0.006184,
     "end_time": "2022-09-10T21:18:58.916797",
     "exception": false,
     "start_time": "2022-09-10T21:18:58.910613",
     "status": "completed"
    },
    "tags": []
   },
   "source": [
    "**Choosing the value of k:**\n",
    "* The algorithms performance can be **sensitive the value of k**. When k is small, the model is **sensitive to noise** and is prone to **overfitting** whereas large values of k can lead to **underfitting**, especially if there is class inbalance.\n",
    "* When the number of classes is 2, **k should be an odd number** to prevent any 'tied votes' when making predictions.\n",
    "* The value of k should be **bigger than the number of classes** for similar reasons. "
   ]
  },
  {
   "cell_type": "markdown",
   "id": "823fdf2f",
   "metadata": {
    "papermill": {
     "duration": 0.006377,
     "end_time": "2022-09-10T21:18:58.929747",
     "exception": false,
     "start_time": "2022-09-10T21:18:58.923370",
     "status": "completed"
    },
    "tags": []
   },
   "source": [
    "<center>\n",
    "<img src='https://milliams.com/courses/applied_data_analysis/knn.gif' width=350>\n",
    "</center>"
   ]
  },
  {
   "cell_type": "markdown",
   "id": "eca81884",
   "metadata": {
    "papermill": {
     "duration": 0.006289,
     "end_time": "2022-09-10T21:18:58.943004",
     "exception": false,
     "start_time": "2022-09-10T21:18:58.936715",
     "status": "completed"
    },
    "tags": []
   },
   "source": [
    "**Metrics:**\n",
    "\n",
    "The meaning of '**nearest**' depends on what **metric** you use. Usually, **Euclidean distance** is used but others like Manhattan and Minkowski distance can be used as well."
   ]
  },
  {
   "cell_type": "markdown",
   "id": "4e3dbbcb",
   "metadata": {
    "papermill": {
     "duration": 0.006088,
     "end_time": "2022-09-10T21:18:58.955539",
     "exception": false,
     "start_time": "2022-09-10T21:18:58.949451",
     "status": "completed"
    },
    "tags": []
   },
   "source": [
    "<center>\n",
    "<img src='https://i.postimg.cc/SQLhv9Dn/1-v-At-QZb-ROu-Tdp36a-QQ8cq-BA.png' width=600>\n",
    "</center>"
   ]
  },
  {
   "cell_type": "markdown",
   "id": "234a5d72",
   "metadata": {
    "papermill": {
     "duration": 0.006057,
     "end_time": "2022-09-10T21:18:58.968029",
     "exception": false,
     "start_time": "2022-09-10T21:18:58.961972",
     "status": "completed"
    },
    "tags": []
   },
   "source": [
    "# Data\n",
    "\n",
    "We will apply the kNN algorithm on the famous **UCI breast cancer dataset**. This is a **binary classification** problem where the goal is to predict whether a patient has breast cancer or not using several features extracted from images."
   ]
  },
  {
   "cell_type": "markdown",
   "id": "bc1b3fbe",
   "metadata": {
    "papermill": {
     "duration": 0.006649,
     "end_time": "2022-09-10T21:18:58.981668",
     "exception": false,
     "start_time": "2022-09-10T21:18:58.975019",
     "status": "completed"
    },
    "tags": []
   },
   "source": [
    "**Load data**"
   ]
  },
  {
   "cell_type": "code",
   "execution_count": null,
   "id": "fb87e9a6",
   "metadata": {},
   "outputs": [],
   "source": []
  },
  {
   "cell_type": "code",
   "execution_count": 3,
   "id": "0518cb11",
   "metadata": {
    "execution": {
     "iopub.execute_input": "2022-09-10T21:18:58.997236Z",
     "iopub.status.busy": "2022-09-10T21:18:58.996812Z",
     "iopub.status.idle": "2022-09-10T21:18:59.067940Z",
     "shell.execute_reply": "2022-09-10T21:18:59.066498Z"
    },
    "papermill": {
     "duration": 0.082919,
     "end_time": "2022-09-10T21:18:59.071534",
     "exception": false,
     "start_time": "2022-09-10T21:18:58.988615",
     "status": "completed"
    },
    "tags": []
   },
   "outputs": [
    {
     "name": "stdout",
     "output_type": "stream",
     "text": [
      "Dataframe shape: (569, 31)\n"
     ]
    },
    {
     "data": {
      "text/html": [
       "<div>\n",
       "<style scoped>\n",
       "    .dataframe tbody tr th:only-of-type {\n",
       "        vertical-align: middle;\n",
       "    }\n",
       "\n",
       "    .dataframe tbody tr th {\n",
       "        vertical-align: top;\n",
       "    }\n",
       "\n",
       "    .dataframe thead th {\n",
       "        text-align: right;\n",
       "    }\n",
       "</style>\n",
       "<table border=\"1\" class=\"dataframe\">\n",
       "  <thead>\n",
       "    <tr style=\"text-align: right;\">\n",
       "      <th></th>\n",
       "      <th>diagnosis</th>\n",
       "      <th>radius_mean</th>\n",
       "      <th>texture_mean</th>\n",
       "      <th>perimeter_mean</th>\n",
       "      <th>area_mean</th>\n",
       "      <th>smoothness_mean</th>\n",
       "      <th>compactness_mean</th>\n",
       "      <th>concavity_mean</th>\n",
       "      <th>concave points_mean</th>\n",
       "      <th>symmetry_mean</th>\n",
       "      <th>...</th>\n",
       "      <th>radius_worst</th>\n",
       "      <th>texture_worst</th>\n",
       "      <th>perimeter_worst</th>\n",
       "      <th>area_worst</th>\n",
       "      <th>smoothness_worst</th>\n",
       "      <th>compactness_worst</th>\n",
       "      <th>concavity_worst</th>\n",
       "      <th>concave points_worst</th>\n",
       "      <th>symmetry_worst</th>\n",
       "      <th>fractal_dimension_worst</th>\n",
       "    </tr>\n",
       "  </thead>\n",
       "  <tbody>\n",
       "    <tr>\n",
       "      <th>0</th>\n",
       "      <td>M</td>\n",
       "      <td>17.99</td>\n",
       "      <td>10.38</td>\n",
       "      <td>122.8</td>\n",
       "      <td>1001.0</td>\n",
       "      <td>0.11840</td>\n",
       "      <td>0.27760</td>\n",
       "      <td>0.3001</td>\n",
       "      <td>0.14710</td>\n",
       "      <td>0.2419</td>\n",
       "      <td>...</td>\n",
       "      <td>25.38</td>\n",
       "      <td>17.33</td>\n",
       "      <td>184.6</td>\n",
       "      <td>2019.0</td>\n",
       "      <td>0.1622</td>\n",
       "      <td>0.6656</td>\n",
       "      <td>0.7119</td>\n",
       "      <td>0.2654</td>\n",
       "      <td>0.4601</td>\n",
       "      <td>0.11890</td>\n",
       "    </tr>\n",
       "    <tr>\n",
       "      <th>1</th>\n",
       "      <td>M</td>\n",
       "      <td>20.57</td>\n",
       "      <td>17.77</td>\n",
       "      <td>132.9</td>\n",
       "      <td>1326.0</td>\n",
       "      <td>0.08474</td>\n",
       "      <td>0.07864</td>\n",
       "      <td>0.0869</td>\n",
       "      <td>0.07017</td>\n",
       "      <td>0.1812</td>\n",
       "      <td>...</td>\n",
       "      <td>24.99</td>\n",
       "      <td>23.41</td>\n",
       "      <td>158.8</td>\n",
       "      <td>1956.0</td>\n",
       "      <td>0.1238</td>\n",
       "      <td>0.1866</td>\n",
       "      <td>0.2416</td>\n",
       "      <td>0.1860</td>\n",
       "      <td>0.2750</td>\n",
       "      <td>0.08902</td>\n",
       "    </tr>\n",
       "    <tr>\n",
       "      <th>2</th>\n",
       "      <td>M</td>\n",
       "      <td>19.69</td>\n",
       "      <td>21.25</td>\n",
       "      <td>130.0</td>\n",
       "      <td>1203.0</td>\n",
       "      <td>0.10960</td>\n",
       "      <td>0.15990</td>\n",
       "      <td>0.1974</td>\n",
       "      <td>0.12790</td>\n",
       "      <td>0.2069</td>\n",
       "      <td>...</td>\n",
       "      <td>23.57</td>\n",
       "      <td>25.53</td>\n",
       "      <td>152.5</td>\n",
       "      <td>1709.0</td>\n",
       "      <td>0.1444</td>\n",
       "      <td>0.4245</td>\n",
       "      <td>0.4504</td>\n",
       "      <td>0.2430</td>\n",
       "      <td>0.3613</td>\n",
       "      <td>0.08758</td>\n",
       "    </tr>\n",
       "  </tbody>\n",
       "</table>\n",
       "<p>3 rows × 31 columns</p>\n",
       "</div>"
      ],
      "text/plain": [
       "  diagnosis  radius_mean  texture_mean  perimeter_mean  area_mean  \\\n",
       "0         M        17.99         10.38           122.8     1001.0   \n",
       "1         M        20.57         17.77           132.9     1326.0   \n",
       "2         M        19.69         21.25           130.0     1203.0   \n",
       "\n",
       "   smoothness_mean  compactness_mean  concavity_mean  concave points_mean  \\\n",
       "0          0.11840           0.27760          0.3001              0.14710   \n",
       "1          0.08474           0.07864          0.0869              0.07017   \n",
       "2          0.10960           0.15990          0.1974              0.12790   \n",
       "\n",
       "   symmetry_mean  ...  radius_worst  texture_worst  perimeter_worst  \\\n",
       "0         0.2419  ...         25.38          17.33            184.6   \n",
       "1         0.1812  ...         24.99          23.41            158.8   \n",
       "2         0.2069  ...         23.57          25.53            152.5   \n",
       "\n",
       "   area_worst  smoothness_worst  compactness_worst  concavity_worst  \\\n",
       "0      2019.0            0.1622             0.6656           0.7119   \n",
       "1      1956.0            0.1238             0.1866           0.2416   \n",
       "2      1709.0            0.1444             0.4245           0.4504   \n",
       "\n",
       "   concave points_worst  symmetry_worst  fractal_dimension_worst  \n",
       "0                0.2654          0.4601                  0.11890  \n",
       "1                0.1860          0.2750                  0.08902  \n",
       "2                0.2430          0.3613                  0.08758  \n",
       "\n",
       "[3 rows x 31 columns]"
      ]
     },
     "execution_count": 3,
     "metadata": {},
     "output_type": "execute_result"
    }
   ],
   "source": [
    "# Load data\n",
    "data = pd.read_csv('https://gist.githubusercontent.com/sankalpie/95c533b135e857593f71dd2fbb143455/raw/0dbb1e62af38941133b81b1ef89c67a431c7e41f/data.csv', index_col='id').reset_index(drop=True)\n",
    "data.drop('Unnamed: 32', axis=1, inplace=True)\n",
    "\n",
    "# Preview data\n",
    "print('Dataframe shape:', data.shape)\n",
    "data.head(3)"
   ]
  },
  {
   "cell_type": "markdown",
   "id": "27878cf2",
   "metadata": {
    "papermill": {
     "duration": 0.007646,
     "end_time": "2022-09-10T21:18:59.086662",
     "exception": false,
     "start_time": "2022-09-10T21:18:59.079016",
     "status": "completed"
    },
    "tags": []
   },
   "source": [
    "**Pre-process data**"
   ]
  },
  {
   "cell_type": "code",
   "execution_count": 4,
   "id": "b46ecf8b",
   "metadata": {},
   "outputs": [
    {
     "name": "stdout",
     "output_type": "stream",
     "text": [
      "diagnosis                  0\n",
      "radius_mean                0\n",
      "texture_mean               0\n",
      "perimeter_mean             0\n",
      "area_mean                  0\n",
      "smoothness_mean            0\n",
      "compactness_mean           0\n",
      "concavity_mean             0\n",
      "concave points_mean        0\n",
      "symmetry_mean              0\n",
      "fractal_dimension_mean     0\n",
      "radius_se                  0\n",
      "texture_se                 0\n",
      "perimeter_se               0\n",
      "area_se                    0\n",
      "smoothness_se              0\n",
      "compactness_se             0\n",
      "concavity_se               0\n",
      "concave points_se          0\n",
      "symmetry_se                0\n",
      "fractal_dimension_se       0\n",
      "radius_worst               0\n",
      "texture_worst              0\n",
      "perimeter_worst            0\n",
      "area_worst                 0\n",
      "smoothness_worst           0\n",
      "compactness_worst          0\n",
      "concavity_worst            0\n",
      "concave points_worst       0\n",
      "symmetry_worst             0\n",
      "fractal_dimension_worst    0\n",
      "dtype: int64\n"
     ]
    }
   ],
   "source": [
    "print(data.isnull().sum())"
   ]
  },
  {
   "cell_type": "code",
   "execution_count": 5,
   "id": "45d3cf78",
   "metadata": {
    "execution": {
     "iopub.execute_input": "2022-09-10T21:18:59.103156Z",
     "iopub.status.busy": "2022-09-10T21:18:59.102104Z",
     "iopub.status.idle": "2022-09-10T21:18:59.111868Z",
     "shell.execute_reply": "2022-09-10T21:18:59.110380Z"
    },
    "papermill": {
     "duration": 0.020733,
     "end_time": "2022-09-10T21:18:59.114632",
     "exception": false,
     "start_time": "2022-09-10T21:18:59.093899",
     "status": "completed"
    },
    "tags": []
   },
   "outputs": [],
   "source": [
    "# Features and labels\n",
    "X = data.drop('diagnosis', axis=1)\n",
    "y = data['diagnosis']\n",
    "\n",
    "# Encode target to binary\n",
    "y = (y=='M').astype('int')"
   ]
  },
  {
   "cell_type": "markdown",
   "id": "a339c6a3",
   "metadata": {
    "papermill": {
     "duration": 0.006561,
     "end_time": "2022-09-10T21:18:59.128123",
     "exception": false,
     "start_time": "2022-09-10T21:18:59.121562",
     "status": "completed"
    },
    "tags": []
   },
   "source": [
    "**Split data**"
   ]
  },
  {
   "cell_type": "code",
   "execution_count": 6,
   "id": "9b47202d",
   "metadata": {
    "execution": {
     "iopub.execute_input": "2022-09-10T21:18:59.143832Z",
     "iopub.status.busy": "2022-09-10T21:18:59.143108Z",
     "iopub.status.idle": "2022-09-10T21:18:59.150497Z",
     "shell.execute_reply": "2022-09-10T21:18:59.149502Z"
    },
    "papermill": {
     "duration": 0.018045,
     "end_time": "2022-09-10T21:18:59.152899",
     "exception": false,
     "start_time": "2022-09-10T21:18:59.134854",
     "status": "completed"
    },
    "tags": []
   },
   "outputs": [],
   "source": [
    "# Split dataset into training and testing data (80/20 split)\n",
    "X_train, X_test, y_train, y_test = train_test_split(X, y, test_size=0.2, random_state=4)"
   ]
  },
  {
   "cell_type": "markdown",
   "id": "971393c8",
   "metadata": {
    "papermill": {
     "duration": 0.006575,
     "end_time": "2022-09-10T21:18:59.166358",
     "exception": false,
     "start_time": "2022-09-10T21:18:59.159783",
     "status": "completed"
    },
    "tags": []
   },
   "source": [
    "# kNN model\n",
    "\n",
    "We will implement the model as a **class**. Although more complicated, it allows us to write methods like 'fit' and 'predict', which provides more flexibility."
   ]
  },
  {
   "cell_type": "markdown",
   "id": "2727f824",
   "metadata": {
    "papermill": {
     "duration": 0.006564,
     "end_time": "2022-09-10T21:18:59.180284",
     "exception": false,
     "start_time": "2022-09-10T21:18:59.173720",
     "status": "completed"
    },
    "tags": []
   },
   "source": [
    "**The algorithm**"
   ]
  },
  {
   "cell_type": "code",
   "execution_count": 7,
   "id": "040b201c",
   "metadata": {},
   "outputs": [],
   "source": [
    "import scipy.spatial as sp"
   ]
  },
  {
   "cell_type": "code",
   "execution_count": 8,
   "id": "c2f41b89",
   "metadata": {
    "execution": {
     "iopub.execute_input": "2022-09-10T21:18:59.196724Z",
     "iopub.status.busy": "2022-09-10T21:18:59.195576Z",
     "iopub.status.idle": "2022-09-10T21:18:59.210869Z",
     "shell.execute_reply": "2022-09-10T21:18:59.209758Z"
    },
    "papermill": {
     "duration": 0.02639,
     "end_time": "2022-09-10T21:18:59.213681",
     "exception": false,
     "start_time": "2022-09-10T21:18:59.187291",
     "status": "completed"
    },
    "tags": []
   },
   "outputs": [],
   "source": [
    "class kNN():\n",
    "    '''k-Nearest Neighbours'''\n",
    "    # Initialise\n",
    "    def __init__(self, k=3, metric='euclidean', p=None):\n",
    "        self.k = k\n",
    "        self.metric = metric\n",
    "        self.p = p\n",
    "    \n",
    "    # Euclidean distance (l2 norm)\n",
    "    def euclidean(self, v1, v2):\n",
    "        return np.sqrt(np.sum((v1-v2)**2))\n",
    "    \n",
    "    # Manhattan distance (l1 norm)\n",
    "    def manhattan(self, v1, v2):\n",
    "        return np.sum(np.abs(v1-v2))\n",
    "    \n",
    "    # Minkowski distance (lp norm)\n",
    "    def minkowski(self, v1, v2, p=2):\n",
    "        # return np.sum(np.abs(v1-v2)**p)**(1/p)\n",
    "        return sp.minkowski_distance(v1,v2,p)\n",
    "        \n",
    "    # Store train set\n",
    "    def fit(self, X_train, y_train):\n",
    "        self.X_train = X_train\n",
    "        self.y_train = y_train\n",
    "        \n",
    "    # Make predictions\n",
    "    def predict(self, X_test):\n",
    "        preds = []\n",
    "        # Loop over rows in test set\n",
    "        for test_row in X_test:\n",
    "            nearest_neighbours = self.get_neighbours(test_row)\n",
    "            majority = stats.mode(nearest_neighbours)[0][0]\n",
    "            preds.append(majority)\n",
    "        return np.array(preds)\n",
    "    \n",
    "    # Get nearest neighbours\n",
    "    def get_neighbours(self, test_row):\n",
    "        distances = list()\n",
    "        \n",
    "        # Calculate distance to all points in X_train\n",
    "        for (train_row, train_class) in zip(self.X_train, self.y_train):\n",
    "            if self.metric=='euclidean':\n",
    "                dist = self.euclidean(train_row, test_row)\n",
    "            elif self.metric=='manhattan':\n",
    "                dist = self.manhattan(train_row, test_row)\n",
    "            elif self.metric=='minkowski':\n",
    "                dist = self.minkowski(train_row, test_row, self.p)\n",
    "            else:\n",
    "                raise NameError('Supported metrics are euclidean, manhattan and minkowski')\n",
    "            distances.append((dist, train_class))\n",
    "            \n",
    "        # Sort distances\n",
    "        distances.sort(key=lambda x: x[0])\n",
    "        \n",
    "        # Identify k nearest neighbours\n",
    "        neighbours = list()\n",
    "        for i in range(self.k):\n",
    "            neighbours.append(distances[i][1])\n",
    "            \n",
    "        return neighbours"
   ]
  },
  {
   "cell_type": "markdown",
   "id": "a6e8f054",
   "metadata": {
    "papermill": {
     "duration": 0.006417,
     "end_time": "2022-09-10T21:18:59.227056",
     "exception": false,
     "start_time": "2022-09-10T21:18:59.220639",
     "status": "completed"
    },
    "tags": []
   },
   "source": [
    "**Apply our algorithm**"
   ]
  },
  {
   "cell_type": "code",
   "execution_count": 9,
   "id": "7bcdd238",
   "metadata": {
    "execution": {
     "iopub.execute_input": "2022-09-10T21:18:59.243779Z",
     "iopub.status.busy": "2022-09-10T21:18:59.242539Z",
     "iopub.status.idle": "2022-09-10T21:19:00.205306Z",
     "shell.execute_reply": "2022-09-10T21:19:00.204211Z"
    },
    "papermill": {
     "duration": 0.974669,
     "end_time": "2022-09-10T21:19:00.208497",
     "exception": false,
     "start_time": "2022-09-10T21:18:59.233828",
     "status": "completed"
    },
    "tags": []
   },
   "outputs": [
    {
     "name": "stderr",
     "output_type": "stream",
     "text": [
      "C:\\Users\\Sankalpie\\AppData\\Local\\Temp\\ipykernel_25260\\297813262.py:33: FutureWarning: Unlike other reduction functions (e.g. `skew`, `kurtosis`), the default behavior of `mode` typically preserves the axis it acts along. In SciPy 1.11.0, this behavior will change: the default value of `keepdims` will become False, the `axis` over which the statistic is taken will be eliminated, and the value None will no longer be accepted. Set `keepdims` to True or False to avoid this warning.\n",
      "  majority = stats.mode(nearest_neighbours)[0][0]\n"
     ]
    },
    {
     "name": "stdout",
     "output_type": "stream",
     "text": [
      "Metric: euclidean, accuracy: 87.719 %\n",
      "Metric: manhattan, accuracy: 91.228 %\n"
     ]
    }
   ],
   "source": [
    "# Function to calculate accuracy\n",
    "def accuracy(preds, y_test):\n",
    "    return 100 * (preds == y_test).mean()\n",
    "\n",
    "# Apply our kNN algorithm\n",
    "for metric in ['euclidean', 'manhattan']:\n",
    "    clf = kNN(k=5, metric=metric)\n",
    "    clf.fit(X_train.values, y_train.values)\n",
    "    preds = clf.predict(X_test.values)\n",
    "    print(f'Metric: {metric}, accuracy: {accuracy(preds, y_test):.3f} %')"
   ]
  },
  {
   "cell_type": "markdown",
   "id": "158409e6",
   "metadata": {
    "papermill": {
     "duration": 0.006665,
     "end_time": "2022-09-10T21:19:00.222508",
     "exception": false,
     "start_time": "2022-09-10T21:19:00.215843",
     "status": "completed"
    },
    "tags": []
   },
   "source": [
    "**Compare to sklearn**"
   ]
  },
  {
   "cell_type": "code",
   "execution_count": 11,
   "id": "92e279d6",
   "metadata": {
    "execution": {
     "iopub.execute_input": "2022-09-10T21:19:00.239154Z",
     "iopub.status.busy": "2022-09-10T21:19:00.238372Z",
     "iopub.status.idle": "2022-09-10T21:19:00.426269Z",
     "shell.execute_reply": "2022-09-10T21:19:00.424765Z"
    },
    "papermill": {
     "duration": 0.201511,
     "end_time": "2022-09-10T21:19:00.431012",
     "exception": false,
     "start_time": "2022-09-10T21:19:00.229501",
     "status": "completed"
    },
    "tags": []
   },
   "outputs": [
    {
     "name": "stdout",
     "output_type": "stream",
     "text": [
      "Sklearn accuracy: 87.719 %\n"
     ]
    }
   ],
   "source": [
    "from sklearn.neighbors import KNeighborsClassifier\n",
    "\n",
    "clf = KNeighborsClassifier(n_neighbors=5)\n",
    "clf.fit(X_train.values, y_train.values)\n",
    "preds = clf.predict(X_test.values)\n",
    "\n",
    "# Calculate test set accuracy\n",
    "def accuracy(preds, y_test):\n",
    "    return 100 * (preds == y_test).mean()\n",
    "print(f'Sklearn accuracy: {accuracy(preds, y_test):.3f} %')"
   ]
  },
  {
   "cell_type": "markdown",
   "id": "b4109161",
   "metadata": {
    "papermill": {
     "duration": 0.010845,
     "end_time": "2022-09-10T21:19:00.454192",
     "exception": false,
     "start_time": "2022-09-10T21:19:00.443347",
     "status": "completed"
    },
    "tags": []
   },
   "source": [
    "# Experiments"
   ]
  },
  {
   "cell_type": "markdown",
   "id": "3eaca444",
   "metadata": {
    "papermill": {
     "duration": 0.01225,
     "end_time": "2022-09-10T21:19:00.478185",
     "exception": false,
     "start_time": "2022-09-10T21:19:00.465935",
     "status": "completed"
    },
    "tags": []
   },
   "source": [
    "**Effect of k on accuracy**"
   ]
  },
  {
   "cell_type": "code",
   "execution_count": 33,
   "id": "0f0be1cd",
   "metadata": {
    "_kg_hide-input": true,
    "execution": {
     "iopub.execute_input": "2022-09-10T21:19:00.505474Z",
     "iopub.status.busy": "2022-09-10T21:19:00.503886Z",
     "iopub.status.idle": "2022-09-10T21:19:16.075758Z",
     "shell.execute_reply": "2022-09-10T21:19:16.074432Z"
    },
    "papermill": {
     "duration": 15.58841,
     "end_time": "2022-09-10T21:19:16.078717",
     "exception": false,
     "start_time": "2022-09-10T21:19:00.490307",
     "status": "completed"
    },
    "tags": []
   },
   "outputs": [
    {
     "name": "stderr",
     "output_type": "stream",
     "text": [
      "C:\\Users\\Sankalpie\\AppData\\Local\\Temp\\ipykernel_6880\\3325555159.py:32: FutureWarning: Unlike other reduction functions (e.g. `skew`, `kurtosis`), the default behavior of `mode` typically preserves the axis it acts along. In SciPy 1.11.0, this behavior will change: the default value of `keepdims` will become False, the `axis` over which the statistic is taken will be eliminated, and the value None will no longer be accepted. Set `keepdims` to True or False to avoid this warning.\n",
      "  majority = stats.mode(nearest_neighbours)[0][0]\n"
     ]
    },
    {
     "data": {
      "image/png": "[encoded data removed]",
      "text/plain": [
       "<Figure size 1400x500 with 2 Axes>"
      ]
     },
     "metadata": {},
     "output_type": "display_data"
    }
   ],
   "source": [
    "k_max = 30\n",
    "accuracies = []\n",
    "times = []\n",
    "\n",
    "for k in range(3,k_max):\n",
    "    clf = kNN(k=k, metric='euclidean')\n",
    "    clf.fit(X_train.values, y_train.values)\n",
    "    \n",
    "    start = time.time()\n",
    "    preds = clf.predict(X_test.values)\n",
    "    stop = time.time()\n",
    "    \n",
    "    acc = accuracy(preds, y_test)\n",
    "    accuracies.append(acc)\n",
    "    times.append(stop-start)\n",
    "    \n",
    "plt.figure(figsize=(14,5))\n",
    "plt.subplot(1,2,1)\n",
    "plt.plot(range(3,k_max), accuracies, marker='o')\n",
    "plt.xlabel('k')\n",
    "plt.ylabel('Accuracy')\n",
    "plt.title('k vs accuracy')\n",
    "\n",
    "plt.subplot(1,2,2)\n",
    "plt.plot(range(3,k_max), times, marker='o', c='C1')\n",
    "plt.xlabel('k')\n",
    "plt.ylabel('Time (seconds)')\n",
    "plt.title('k vs time')\n",
    "plt.tight_layout()\n",
    "plt.show()"
   ]
  },
  {
   "cell_type": "markdown",
   "id": "4d919a9d",
   "metadata": {
    "papermill": {
     "duration": 0.007642,
     "end_time": "2022-09-10T21:19:16.094515",
     "exception": false,
     "start_time": "2022-09-10T21:19:16.086873",
     "status": "completed"
    },
    "tags": []
   },
   "source": [
    "*Observations*\n",
    "\n",
    "* The **accuracy is highest for small values of k** and then goes down and flattens off.\n",
    "* The prediction **time is independent of k**. This is because we calculate the distance between all points regardless of the value of k. There are more efficient implementations of k-NN than this."
   ]
  },
  {
   "cell_type": "markdown",
   "id": "d0d14bc9",
   "metadata": {
    "papermill": {
     "duration": 0.007812,
     "end_time": "2022-09-10T21:19:16.110395",
     "exception": false,
     "start_time": "2022-09-10T21:19:16.102583",
     "status": "completed"
    },
    "tags": []
   },
   "source": [
    "**Effect of p on accuracy**"
   ]
  },
  {
   "cell_type": "code",
   "execution_count": 34,
   "id": "d4c000ee",
   "metadata": {
    "_kg_hide-input": true,
    "execution": {
     "iopub.execute_input": "2022-09-10T21:19:16.129204Z",
     "iopub.status.busy": "2022-09-10T21:19:16.128019Z",
     "iopub.status.idle": "2022-09-10T21:19:28.180817Z",
     "shell.execute_reply": "2022-09-10T21:19:28.178994Z"
    },
    "papermill": {
     "duration": 12.065715,
     "end_time": "2022-09-10T21:19:28.184309",
     "exception": false,
     "start_time": "2022-09-10T21:19:16.118594",
     "status": "completed"
    },
    "tags": []
   },
   "outputs": [
    {
     "name": "stderr",
     "output_type": "stream",
     "text": [
      "C:\\Users\\Sankalpie\\AppData\\Local\\Temp\\ipykernel_6880\\3325555159.py:32: FutureWarning: Unlike other reduction functions (e.g. `skew`, `kurtosis`), the default behavior of `mode` typically preserves the axis it acts along. In SciPy 1.11.0, this behavior will change: the default value of `keepdims` will become False, the `axis` over which the statistic is taken will be eliminated, and the value None will no longer be accepted. Set `keepdims` to True or False to avoid this warning.\n",
      "  majority = stats.mode(nearest_neighbours)[0][0]\n"
     ]
    },
    {
     "data": {
      "image/png": "[encoded data removed]",
      "text/plain": [
       "<Figure size 1400x500 with 2 Axes>"
      ]
     },
     "metadata": {},
     "output_type": "display_data"
    }
   ],
   "source": [
    "p_grid = np.arange(0.5,10,0.5)\n",
    "accuracies = []\n",
    "times = []\n",
    "\n",
    "for p in p_grid:\n",
    "    clf = kNN(k=5, metric='minkowski',p=p)\n",
    "    clf.fit(X_train.values, y_train.values)\n",
    "    \n",
    "    start = time.time()\n",
    "    preds = clf.predict(X_test.values)\n",
    "    stop = time.time()\n",
    "    \n",
    "    acc = accuracy(preds, y_test)\n",
    "    accuracies.append(acc)\n",
    "    times.append(stop-start)\n",
    "    \n",
    "plt.figure(figsize=(14,5))\n",
    "plt.subplot(1,2,1)\n",
    "plt.plot(p_grid, accuracies, marker='o')\n",
    "plt.xlabel('p')\n",
    "plt.ylabel('Accuracy')\n",
    "plt.title('p vs accuracy')\n",
    "\n",
    "plt.subplot(1,2,2)\n",
    "plt.plot(p_grid, times, marker='o', c='C1')\n",
    "plt.xlabel('p')\n",
    "plt.ylabel('Time (seconds)')\n",
    "plt.title('p vs time')\n",
    "plt.tight_layout()\n",
    "plt.show()"
   ]
  },
  {
   "cell_type": "markdown",
   "id": "20a12c84",
   "metadata": {
    "papermill": {
     "duration": 0.008476,
     "end_time": "2022-09-10T21:19:28.201725",
     "exception": false,
     "start_time": "2022-09-10T21:19:28.193249",
     "status": "completed"
    },
    "tags": []
   },
   "source": [
    "*Observations*\n",
    "\n",
    "* The **accuracy is highest for small values of p** and then flattens off sharply. \n",
    "* The **prediction time is independent of p**. This is because the metric doesn't change any significant part of the algorithm."
   ]
  },
  {
   "cell_type": "markdown",
   "id": "607da11a",
   "metadata": {
    "papermill": {
     "duration": 0.008372,
     "end_time": "2022-09-10T21:19:28.218820",
     "exception": false,
     "start_time": "2022-09-10T21:19:28.210448",
     "status": "completed"
    },
    "tags": []
   },
   "source": [
    "# References\n",
    "\n",
    "* [Develop k-Nearest Neighbors in Python From Scratch](https://machinelearningmastery.com/tutorial-to-implement-k-nearest-neighbors-in-python-from-scratch/)\n",
    "* [k-NN, Logistic Regression, k-Fold CV from Scratch](https://www.kaggle.com/code/burhanykiyakoglu/k-nn-logistic-regression-k-fold-cv-from-scratch)\n",
    "* [kNN from scratch in Python at 97.1%](https://www.kaggle.com/code/snshines/knn-from-scratch-in-python-at-97-1)"
   ]
  },
  {
   "cell_type": "markdown",
   "id": "117e0447",
   "metadata": {},
   "source": [
    "# Trying out Quantum KNN"
   ]
  },
  {
   "cell_type": "code",
   "execution_count": 11,
   "id": "4847b1cf",
   "metadata": {},
   "outputs": [
    {
     "name": "stdout",
     "output_type": "stream",
     "text": [
      "Dataframe shape: (569, 31)\n"
     ]
    }
   ],
   "source": [
    "import numpy as np\n",
    "import pandas as pd\n",
    "import seaborn as sns\n",
    "sns.set(style='darkgrid', font_scale=1.4)\n",
    "import matplotlib.pyplot as plt\n",
    "from sklearn.model_selection import train_test_split\n",
    "from scipy import stats\n",
    "import time\n",
    "from math import ceil, log\n",
    "from qiskit_aer import Aer\n",
    "from qiskit import assemble\n",
    "from qiskit import QuantumCircuit, ClassicalRegister, QuantumRegister\n",
    "\n",
    "# Load data\n",
    "data = pd.read_csv('https://gist.githubusercontent.com/sankalpie/95c533b135e857593f71dd2fbb143455/raw/0dbb1e62af38941133b81b1ef89c67a431c7e41f/data.csv', index_col='id').reset_index(drop=True)\n",
    "data.drop('Unnamed: 32', axis=1, inplace=True)\n",
    "\n",
    "# Preview data\n",
    "print('Dataframe shape:', data.shape)\n",
    "data.head(3)\n",
    "\n",
    "# Features and labels\n",
    "X = data.drop('diagnosis', axis=1)\n",
    "y = data['diagnosis']\n",
    "\n",
    "# Encode target to binary\n",
    "y = (y == 'M').astype('int')\n",
    "\n",
    "# Split dataset into training and testing data (80/20 split)\n",
    "X_train, X_test, y_train, y_test = train_test_split(X, y, test_size=0.2, random_state=4)\n",
    "\n",
    "qasm_sim = Aer.get_backend('qasm_simulator')\n",
    "\n"
   ]
  },
  {
   "cell_type": "code",
   "execution_count": 12,
   "id": "8a33305a",
   "metadata": {},
   "outputs": [],
   "source": [
    "\n",
    "# Helper function to concatenate data for quantum distance calculation\n",
    "def concatenate(data, centres):\n",
    "    centres = np.array([centres])\n",
    "    lenX, N = data.shape\n",
    "    n = ceil(log(N, 2)) + 1\n",
    "\n",
    "    result = np.zeros((lenX, 2**n))\n",
    "    result[:, :N] = data[:, :]\n",
    "    result[:, (2**(n-1)):(2**(n-1)+N)] = centres\n",
    "\n",
    "    return result\n",
    "\n",
    "# Quantum Manhattan distance function\n",
    "def quantum_manhattan_distance(data, centres, iteration=1024):\n",
    "    N = data.shape[1]\n",
    "    n = ceil(log(N, 2)) + 1\n",
    "    mat = concatenate(data, centres)\n",
    "\n",
    "    norm = np.linalg.norm(mat, axis=1)\n",
    "    initial_states = mat / norm[:, None]\n",
    "\n",
    "    dist = np.zeros([initial_states.shape[0], 1])\n",
    "    for i, state in enumerate(initial_states):\n",
    "        qr = QuantumRegister(n)\n",
    "        cr = ClassicalRegister(1)\n",
    "        qc = QuantumCircuit(qr, cr)\n",
    "        qc.initialize(state, [qr[::-1]])\n",
    "        qc.h(qr[0])\n",
    "        qc.measure(qr[0], cr[0])\n",
    "\n",
    "        qobj = assemble(qc, shots=iteration)\n",
    "        counts = qasm_sim.run(qobj).result().get_counts()\n",
    "\n",
    "        if len(counts) == 1:\n",
    "            dist[i] = 0\n",
    "        else:\n",
    "            dist[i] = norm[i] * (counts[\"1\"] / iteration)  # Manhattan distance\n",
    "\n",
    "    return dist.flatten()\n",
    "\n",
    "# k-Nearest Neighbors class\n",
    "class kNN():\n",
    "    '''k-Nearest Neighbours'''\n",
    "    def __init__(self, k=3, metric='euclidean', p=None):\n",
    "        self.k = k\n",
    "        self.metric = metric\n",
    "        self.p = p\n",
    "    \n",
    "    # Euclidean distance (l2 norm)\n",
    "    def euclidean(self, v1, v2):\n",
    "        return np.sqrt(np.sum((v1 - v2) ** 2))\n",
    "    \n",
    "    # Manhattan distance (l1 norm)\n",
    "    def manhattan(self, v1, v2):\n",
    "        return np.sum(np.abs(v1 - v2))\n",
    "    \n",
    "    # Quantum Manhattan distance\n",
    "    def quantum_manhattan(self, v1, v2):\n",
    "        data = np.array([v1])\n",
    "        centres = v2\n",
    "        return quantum_manhattan_distance(data, centres)[0]\n",
    "    \n",
    "    # Store train set\n",
    "    def fit(self, X_train, y_train):\n",
    "        self.X_train = X_train\n",
    "        self.y_train = y_train\n",
    "        \n",
    "    # Make predictions\n",
    "    def predict(self, X_test):\n",
    "        preds = []\n",
    "        for test_row in X_test:\n",
    "            nearest_neighbours = self.get_neighbours(test_row)\n",
    "            majority = stats.mode(nearest_neighbours)[0][0]\n",
    "            preds.append(majority)\n",
    "        return np.array(preds)\n",
    "    \n",
    "    # Get nearest neighbours\n",
    "    def get_neighbours(self, test_row):\n",
    "        distances = list()\n",
    "        for (train_row, train_class) in zip(self.X_train, self.y_train):\n",
    "            if self.metric == 'euclidean':\n",
    "                dist = self.euclidean(train_row, test_row)\n",
    "            elif self.metric == 'manhattan':\n",
    "                dist = self.manhattan(train_row, test_row)\n",
    "            elif self.metric == 'quantum_manhattan':\n",
    "                dist = self.quantum_manhattan(train_row, test_row)\n",
    "            else:\n",
    "                raise NameError('Supported metrics are euclidean, manhattan, and quantum_manhattan')\n",
    "            distances.append((dist, train_class))\n",
    "            \n",
    "        distances.sort(key=lambda x: x[0])\n",
    "        \n",
    "        neighbours = list()\n",
    "        for i in range(self.k):\n",
    "            neighbours.append(distances[i][1])\n",
    "            \n",
    "        return neighbours\n",
    "\n",
    "# Function to calculate accuracy\n",
    "def accuracy(preds, y_test):\n",
    "    return 100 * (preds == y_test).mean()\n"
   ]
  },
  {
   "cell_type": "code",
   "execution_count": 14,
   "id": "0af3d233",
   "metadata": {},
   "outputs": [
    {
     "name": "stderr",
     "output_type": "stream",
     "text": [
      "C:\\Users\\Sankalpie\\AppData\\Local\\Temp\\ipykernel_7484\\1445802839.py:73: FutureWarning: Unlike other reduction functions (e.g. `skew`, `kurtosis`), the default behavior of `mode` typically preserves the axis it acts along. In SciPy 1.11.0, this behavior will change: the default value of `keepdims` will become False, the `axis` over which the statistic is taken will be eliminated, and the value None will no longer be accepted. Set `keepdims` to True or False to avoid this warning.\n",
      "  majority = stats.mode(nearest_neighbours)[0][0]\n"
     ]
    },
    {
     "name": "stdout",
     "output_type": "stream",
     "text": [
      "Metric: euclidean, accuracy: 87.719 %\n",
      "Metric: manhattan, accuracy: 91.228 %\n"
     ]
    },
    {
     "name": "stderr",
     "output_type": "stream",
     "text": [
      "C:\\Users\\Sankalpie\\AppData\\Local\\Temp\\ipykernel_7484\\1445802839.py:32: DeprecationWarning: Using a qobj for run() is deprecated as of qiskit-aer 0.14 and will be removed no sooner than 3 months from that release date. Transpiled circuits should now be passed directly using `backend.run(circuits, **run_options).\n",
      "  counts = qasm_sim.run(qobj).result().get_counts()\n"
     ]
    },
    {
     "name": "stdout",
     "output_type": "stream",
     "text": [
      "Metric: quantum_manhattan, accuracy: 89.474 %\n"
     ]
    }
   ],
   "source": [
    "\n",
    "# Apply our kNN algorithm\n",
    "for metric in ['euclidean',  'quantum_manhattan']:\n",
    "    clf = kNN(k=5, metric=metric)\n",
    "    clf.fit(X_train.values, y_train.values)\n",
    "    preds = clf.predict(X_test.values)\n",
    "    print(f'Metric: {metric}, accuracy: {accuracy(preds, y_test):.3f} %')\n",
    "    print(f'Sklearn accuracy: {accuracy(preds, y_test):.3f} %')"
   ]
  },
  {
   "cell_type": "markdown",
   "id": "d59b9a7a",
   "metadata": {},
   "source": [
    "![Quantum MANHATTAN circuit](https://imgur.com/a/rQYwOPN)"
   ]
  },
  {
   "cell_type": "markdown",
   "id": "ff8e9805",
   "metadata": {},
   "source": [
    "![Quantum manhattan circuit](./dataset/quantum_manhattan_circuit.jpg)"
   ]
  }
 ],
 "metadata": {
  "kernelspec": {
   "display_name": "my_tensorflow_gpu_env",
   "language": "python",
   "name": "python3"
  },
  "language_info": {
   "codemirror_mode": {
    "name": "ipython",
    "version": 3
   },
   "file_extension": ".py",
   "mimetype": "text/x-python",
   "name": "python",
   "nbconvert_exporter": "python",
   "pygments_lexer": "ipython3",
   "version": "undefined.undefined.undefined"
  },
  "papermill": {
   "default_parameters": {},
   "duration": 43.723997,
   "end_time": "2022-09-10T21:19:29.051601",
   "environment_variables": {},
   "exception": null,
   "input_path": "__notebook__.ipynb",
   "output_path": "__notebook__.ipynb",
   "parameters": {},
   "start_time": "2022-09-10T21:18:45.327604",
   "version": "2.3.4"
  }
 },
 "nbformat": 4,
 "nbformat_minor": 5
}
